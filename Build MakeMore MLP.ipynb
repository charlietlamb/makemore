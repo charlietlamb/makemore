{
 "cells": [
  {
   "cell_type": "code",
   "metadata": {
    "ExecuteTime": {
     "end_time": "2024-10-03T19:51:41.146513Z",
     "start_time": "2024-10-03T19:51:39.681536Z"
    }
   },
   "source": [
    "%pip install torch\n",
    "%pip install typingextensions\n",
    "%pip install matplotlib"
   ],
   "outputs": [
    {
     "name": "stdout",
     "output_type": "stream",
     "text": [
      "Requirement already satisfied: torch in /opt/homebrew/anaconda3/envs/tf2/lib/python3.8/site-packages (2.4.1)\r\n",
      "Requirement already satisfied: filelock in /opt/homebrew/anaconda3/envs/tf2/lib/python3.8/site-packages (from torch) (3.16.1)\r\n",
      "Requirement already satisfied: typing-extensions>=4.8.0 in /opt/homebrew/anaconda3/envs/tf2/lib/python3.8/site-packages (from torch) (4.12.2)\r\n",
      "Requirement already satisfied: sympy in /opt/homebrew/anaconda3/envs/tf2/lib/python3.8/site-packages (from torch) (1.13.3)\r\n",
      "Requirement already satisfied: networkx in /opt/homebrew/anaconda3/envs/tf2/lib/python3.8/site-packages (from torch) (3.1)\r\n",
      "Requirement already satisfied: jinja2 in /opt/homebrew/anaconda3/envs/tf2/lib/python3.8/site-packages (from torch) (3.1.4)\r\n",
      "Requirement already satisfied: fsspec in /opt/homebrew/anaconda3/envs/tf2/lib/python3.8/site-packages (from torch) (2024.9.0)\r\n",
      "Requirement already satisfied: MarkupSafe>=2.0 in /opt/homebrew/anaconda3/envs/tf2/lib/python3.8/site-packages (from jinja2->torch) (2.1.5)\r\n",
      "Requirement already satisfied: mpmath<1.4,>=1.1.0 in /opt/homebrew/anaconda3/envs/tf2/lib/python3.8/site-packages (from sympy->torch) (1.3.0)\r\n",
      "Note: you may need to restart the kernel to use updated packages.\n",
      "\u001B[31mERROR: Could not find a version that satisfies the requirement typingextensions (from versions: none)\u001B[0m\u001B[31m\r\n",
      "\u001B[0m\u001B[31mERROR: No matching distribution found for typingextensions\u001B[0m\u001B[31m\r\n",
      "\u001B[0mNote: you may need to restart the kernel to use updated packages.\n",
      "Requirement already satisfied: matplotlib in /opt/homebrew/anaconda3/envs/tf2/lib/python3.8/site-packages (3.4.3)\r\n",
      "Requirement already satisfied: cycler>=0.10 in /opt/homebrew/anaconda3/envs/tf2/lib/python3.8/site-packages (from matplotlib) (0.12.1)\r\n",
      "Requirement already satisfied: kiwisolver>=1.0.1 in /opt/homebrew/anaconda3/envs/tf2/lib/python3.8/site-packages (from matplotlib) (1.4.5)\r\n",
      "Requirement already satisfied: numpy>=1.16 in /opt/homebrew/anaconda3/envs/tf2/lib/python3.8/site-packages (from matplotlib) (1.19.5)\r\n",
      "Requirement already satisfied: pillow>=6.2.0 in /opt/homebrew/anaconda3/envs/tf2/lib/python3.8/site-packages (from matplotlib) (8.3.2)\r\n",
      "Requirement already satisfied: pyparsing>=2.2.1 in /opt/homebrew/anaconda3/envs/tf2/lib/python3.8/site-packages (from matplotlib) (3.1.4)\r\n",
      "Requirement already satisfied: python-dateutil>=2.7 in /opt/homebrew/anaconda3/envs/tf2/lib/python3.8/site-packages (from matplotlib) (2.9.0)\r\n",
      "Requirement already satisfied: six>=1.5 in /opt/homebrew/anaconda3/envs/tf2/lib/python3.8/site-packages (from python-dateutil>=2.7->matplotlib) (1.15.0)\r\n",
      "Note: you may need to restart the kernel to use updated packages.\n"
     ]
    }
   ],
   "execution_count": 1
  },
  {
   "cell_type": "code",
   "metadata": {
    "id": "vowXRstocd8F",
    "ExecuteTime": {
     "end_time": "2024-10-03T20:27:19.434519Z",
     "start_time": "2024-10-03T20:27:18.649160Z"
    }
   },
   "source": [
    "import torch\n",
    "import torch.nn.functional as F\n",
    "import matplotlib.pyplot as plt # for making figures\n",
    "%matplotlib inline"
   ],
   "outputs": [],
   "execution_count": 6
  },
  {
   "cell_type": "code",
   "metadata": {
    "colab": {
     "base_uri": "https://localhost:8080/"
    },
    "id": "9Rlc3YeWcm_d",
    "outputId": "aee8fe61-793b-4da8-efad-13a32a243b17",
    "ExecuteTime": {
     "end_time": "2024-10-03T20:27:20.320415Z",
     "start_time": "2024-10-03T20:27:20.190790Z"
    }
   },
   "source": [
    "# download the names.txt file from github\n",
    "!wget https://raw.githubusercontent.com/karpathy/makemore/master/names.txt"
   ],
   "outputs": [
    {
     "name": "stdout",
     "output_type": "stream",
     "text": [
      "zsh:1: command not found: wget\r\n"
     ]
    }
   ],
   "execution_count": 7
  },
  {
   "cell_type": "code",
   "metadata": {
    "colab": {
     "base_uri": "https://localhost:8080/"
    },
    "id": "uH2MGP4FcidR",
    "outputId": "7a128b70-343a-493a-85f4-3e80293695be",
    "ExecuteTime": {
     "end_time": "2024-10-03T20:27:21.916539Z",
     "start_time": "2024-10-03T20:27:21.908826Z"
    }
   },
   "source": [
    "words = open('names.txt', 'r').read().splitlines()\n",
    "words[:8]"
   ],
   "outputs": [
    {
     "data": {
      "text/plain": [
       "['emma', 'olivia', 'ava', 'isabella', 'sophia', 'charlotte', 'mia', 'amelia']"
      ]
     },
     "execution_count": 8,
     "metadata": {},
     "output_type": "execute_result"
    }
   ],
   "execution_count": 8
  },
  {
   "cell_type": "code",
   "metadata": {
    "colab": {
     "base_uri": "https://localhost:8080/"
    },
    "id": "FbakoEqAcvnF",
    "outputId": "28507b40-8bab-4a62-d9c3-1152550ef0d4",
    "ExecuteTime": {
     "end_time": "2024-10-03T20:27:22.803688Z",
     "start_time": "2024-10-03T20:27:22.799494Z"
    }
   },
   "source": [
    "len(words)"
   ],
   "outputs": [
    {
     "data": {
      "text/plain": [
       "32033"
      ]
     },
     "execution_count": 9,
     "metadata": {},
     "output_type": "execute_result"
    }
   ],
   "execution_count": 9
  },
  {
   "cell_type": "code",
   "metadata": {
    "colab": {
     "base_uri": "https://localhost:8080/"
    },
    "id": "EYnXhmWVcx-l",
    "outputId": "6dcad8cf-9caf-401d-e772-c26ac8f93f39",
    "ExecuteTime": {
     "end_time": "2024-10-03T20:27:23.253841Z",
     "start_time": "2024-10-03T20:27:23.250172Z"
    }
   },
   "source": [
    "# build the vocabulary of characters and mappings to/from integers\n",
    "chars = sorted(list(set(''.join(words))))\n",
    "stoi = {s:i+1 for i,s in enumerate(chars)}\n",
    "stoi['.'] = 0\n",
    "itos = {i:s for s,i in stoi.items()}\n",
    "print(itos)"
   ],
   "outputs": [
    {
     "name": "stdout",
     "output_type": "stream",
     "text": [
      "{1: 'a', 2: 'b', 3: 'c', 4: 'd', 5: 'e', 6: 'f', 7: 'g', 8: 'h', 9: 'i', 10: 'j', 11: 'k', 12: 'l', 13: 'm', 14: 'n', 15: 'o', 16: 'p', 17: 'q', 18: 'r', 19: 's', 20: 't', 21: 'u', 22: 'v', 23: 'w', 24: 'x', 25: 'y', 26: 'z', 0: '.'}\n"
     ]
    }
   ],
   "execution_count": 10
  },
  {
   "cell_type": "code",
   "metadata": {
    "colab": {
     "base_uri": "https://localhost:8080/"
    },
    "id": "MB5XgJxdczFi",
    "outputId": "ce4e48c3-b9f7-4d1d-9e9a-47c37beb326e",
    "ExecuteTime": {
     "end_time": "2024-10-03T20:30:12.403669Z",
     "start_time": "2024-10-03T20:30:12.171538Z"
    }
   },
   "source": [
    "# build the dataset\n",
    "block_size = 4 # context length: how many characters do we take to predict the next one?\n",
    "\n",
    "def build_dataset(words):\n",
    "  X, Y = [], []\n",
    "  for w in words:\n",
    "\n",
    "    #print(w)\n",
    "    context = [0] * block_size\n",
    "    for ch in w + '.':\n",
    "      ix = stoi[ch]\n",
    "      X.append(context)\n",
    "      Y.append(ix)\n",
    "      #print(''.join(itos[i] for i in context), '--->', itos[ix])\n",
    "      context = context[1:] + [ix] # crop and append\n",
    "\n",
    "  X = torch.tensor(X)\n",
    "  Y = torch.tensor(Y)\n",
    "  print(X.shape, Y.shape)\n",
    "  return X, Y\n",
    "\n",
    "import random\n",
    "random.seed(60)\n",
    "random.shuffle(words)\n",
    "n1 = int(0.8*len(words))\n",
    "n2 = int(0.9*len(words))\n",
    "\n",
    "Xtr, Ytr = build_dataset(words[:n1])\n",
    "Xdev, Ydev = build_dataset(words[n1:n2])\n",
    "Xte, Yte = build_dataset(words[n2:])"
   ],
   "outputs": [
    {
     "name": "stdout",
     "output_type": "stream",
     "text": [
      "torch.Size([182455, 4]) torch.Size([182455])\n",
      "torch.Size([22760, 4]) torch.Size([22760])\n",
      "torch.Size([22931, 4]) torch.Size([22931])\n"
     ]
    }
   ],
   "execution_count": 27
  },
  {
   "cell_type": "code",
   "metadata": {
    "id": "EAA0_oigc13X",
    "ExecuteTime": {
     "end_time": "2024-10-03T20:30:13.116681Z",
     "start_time": "2024-10-03T20:30:13.112153Z"
    }
   },
   "source": [
    "g = torch.Generator().manual_seed(2147483647) # for reproducibility\n",
    "C = torch.randn((27, 10), generator=g)\n",
    "W1 = torch.randn((40, 300), generator=g)\n",
    "b1 = torch.randn(300, generator=g)\n",
    "W2 = torch.randn((300, 27), generator=g)\n",
    "b2 = torch.randn(27, generator=g)\n",
    "parameters = [C, W1, b1, W2, b2]"
   ],
   "outputs": [],
   "execution_count": 28
  },
  {
   "cell_type": "code",
   "metadata": {
    "colab": {
     "base_uri": "https://localhost:8080/"
    },
    "id": "_HcVef6-c5S4",
    "outputId": "fbcc9087-e5c6-4916-ba32-45812804bea0",
    "ExecuteTime": {
     "end_time": "2024-10-03T20:30:14.064592Z",
     "start_time": "2024-10-03T20:30:14.060413Z"
    }
   },
   "source": [
    "sum(p.nelement() for p in parameters) # number of parameters in total"
   ],
   "outputs": [
    {
     "data": {
      "text/plain": [
       "20697"
      ]
     },
     "execution_count": 29,
     "metadata": {},
     "output_type": "execute_result"
    }
   ],
   "execution_count": 29
  },
  {
   "cell_type": "code",
   "metadata": {
    "id": "coNBea1sc6tm",
    "ExecuteTime": {
     "end_time": "2024-10-03T20:30:14.732525Z",
     "start_time": "2024-10-03T20:30:14.729864Z"
    }
   },
   "source": [
    "for p in parameters:\n",
    "  p.requires_grad = True"
   ],
   "outputs": [],
   "execution_count": 30
  },
  {
   "cell_type": "code",
   "metadata": {
    "id": "nFWpAj_9c9Yr",
    "ExecuteTime": {
     "end_time": "2024-10-03T20:30:16.427994Z",
     "start_time": "2024-10-03T20:30:16.424450Z"
    }
   },
   "source": [
    "lre = torch.linspace(-3, 0, 1000)\n",
    "lrs = 10**lre"
   ],
   "outputs": [],
   "execution_count": 31
  },
  {
   "cell_type": "code",
   "metadata": {
    "id": "t2huuyTudBlF",
    "ExecuteTime": {
     "end_time": "2024-10-03T20:30:16.779012Z",
     "start_time": "2024-10-03T20:30:16.775145Z"
    }
   },
   "source": [
    "lri = []\n",
    "lossi = []\n",
    "stepi = []"
   ],
   "outputs": [],
   "execution_count": 32
  },
  {
   "cell_type": "code",
   "metadata": {
    "id": "jiKD-PPOdClh",
    "ExecuteTime": {
     "end_time": "2024-10-03T20:30:41.010008Z",
     "start_time": "2024-10-03T20:30:17.529695Z"
    }
   },
   "source": [
    "for i in range(200000):\n",
    "\n",
    "  # minibatch construct\n",
    "  ix = torch.randint(0, Xtr.shape[0], (50,))\n",
    "\n",
    "  # forward pass\n",
    "  emb = C[Xtr[ix]] # (32, 3, 2)\n",
    "  h = torch.tanh(emb.view(-1, 40) @ W1 + b1) # (32, 100)\n",
    "  logits = h @ W2 + b2 # (32, 27)\n",
    "  loss = F.cross_entropy(logits, Ytr[ix])\n",
    "  #print(loss.item())\n",
    "\n",
    "  # backward pass\n",
    "  for p in parameters:\n",
    "    p.grad = None\n",
    "  loss.backward()\n",
    "\n",
    "  # update\n",
    "  #lr = lrs[i]\n",
    "  lr = 0.1 if i < 100000 else 0.01\n",
    "  for p in parameters:\n",
    "    p.data += -lr * p.grad\n",
    "\n",
    "  # track stats\n",
    "  #lri.append(lre[i])\n",
    "  stepi.append(i)\n",
    "  lossi.append(loss.log10().item())\n",
    "\n",
    "#print(loss.item())"
   ],
   "outputs": [],
   "execution_count": 33
  },
  {
   "cell_type": "code",
   "metadata": {
    "colab": {
     "base_uri": "https://localhost:8080/",
     "height": 282
    },
    "id": "ZBAYXZ_rdGIG",
    "outputId": "4da78334-f8d9-416f-9d09-64b66823372a",
    "ExecuteTime": {
     "end_time": "2024-10-03T20:28:23.055466Z",
     "start_time": "2024-10-03T20:28:22.939573Z"
    }
   },
   "source": [
    "plt.plot(stepi, lossi)"
   ],
   "outputs": [
    {
     "data": {
      "text/plain": [
       "[<matplotlib.lines.Line2D at 0x12bcff520>]"
      ]
     },
     "execution_count": 19,
     "metadata": {},
     "output_type": "execute_result"
    },
    {
     "data": {
      "text/plain": [
       "<Figure size 640x480 with 1 Axes>"
      ],
      "image/png": "[encoded data removed]"
     },
     "metadata": {},
     "output_type": "display_data"
    }
   ],
   "execution_count": 19
  },
  {
   "cell_type": "code",
   "metadata": {
    "colab": {
     "base_uri": "https://localhost:8080/"
    },
    "id": "ZlhYinNgdIVF",
    "outputId": "b11e07b9-827b-416d-b70d-a206a6124598",
    "ExecuteTime": {
     "end_time": "2024-10-03T20:28:38.009548Z",
     "start_time": "2024-10-03T20:28:37.910574Z"
    }
   },
   "source": [
    "# training loss\n",
    "emb = C[Xtr] # (32, 3, 2)\n",
    "h = torch.tanh(emb.view(-1, 40) @ W1 + b1) # (32, 100)\n",
    "logits = h @ W2 + b2 # (32, 27)\n",
    "loss = F.cross_entropy(logits, Ytr)\n",
    "loss"
   ],
   "outputs": [
    {
     "data": {
      "text/plain": [
       "tensor(2.1534, grad_fn=<NllLossBackward0>)"
      ]
     },
     "execution_count": 21,
     "metadata": {},
     "output_type": "execute_result"
    }
   ],
   "execution_count": 21
  },
  {
   "cell_type": "code",
   "metadata": {
    "colab": {
     "base_uri": "https://localhost:8080/"
    },
    "id": "cJH3DDu4dLTM",
    "outputId": "d87a5a80-edcf-4fb0-9984-b9dc553521cd",
    "ExecuteTime": {
     "end_time": "2024-10-03T20:28:49.924609Z",
     "start_time": "2024-10-03T20:28:49.906669Z"
    }
   },
   "source": [
    "# validation loss\n",
    "emb = C[Xdev] # (32, 3, 2)\n",
    "h = torch.tanh(emb.view(-1, 40) @ W1 + b1) # (32, 100)\n",
    "logits = h @ W2 + b2 # (32, 27)\n",
    "loss = F.cross_entropy(logits, Ydev)\n",
    "loss"
   ],
   "outputs": [
    {
     "data": {
      "text/plain": [
       "tensor(2.1717, grad_fn=<NllLossBackward0>)"
      ]
     },
     "execution_count": 23,
     "metadata": {},
     "output_type": "execute_result"
    }
   ],
   "execution_count": 23
  },
  {
   "cell_type": "code",
   "metadata": {
    "colab": {
     "base_uri": "https://localhost:8080/"
    },
    "id": "DwOgCg1vdNhe",
    "outputId": "766db7cb-dbfd-4981-e3c1-93cfa87521f5",
    "ExecuteTime": {
     "end_time": "2024-10-03T20:29:08.051383Z",
     "start_time": "2024-10-03T20:29:08.031710Z"
    }
   },
   "source": [
    "# test loss\n",
    "emb = C[Xte] # (32, 3, 2)\n",
    "h = torch.tanh(emb.view(-1, 40) @ W1 + b1) # (32, 100)\n",
    "logits = h @ W2 + b2 # (32, 27)\n",
    "loss = F.cross_entropy(logits, Yte)\n",
    "loss"
   ],
   "outputs": [
    {
     "data": {
      "text/plain": [
       "tensor(2.1890, grad_fn=<NllLossBackward0>)"
      ]
     },
     "execution_count": 26,
     "metadata": {},
     "output_type": "execute_result"
    }
   ],
   "execution_count": 26
  },
  {
   "cell_type": "code",
   "metadata": {
    "colab": {
     "base_uri": "https://localhost:8080/",
     "height": 483
    },
    "id": "CCWLYP9GdPP4",
    "outputId": "6e2e7f56-60a1-4312-e964-7ccbfe5f3a25",
    "ExecuteTime": {
     "end_time": "2024-10-03T20:21:58.571191Z",
     "start_time": "2024-10-03T20:21:58.504962Z"
    }
   },
   "source": [
    "# visualize dimensions 0 and 1 of the embedding matrix C for all characters\n",
    "plt.figure(figsize=(8,8))\n",
    "plt.scatter(C[:,0].data, C[:,1].data, s=200)\n",
    "for i in range(C.shape[0]):\n",
    "    plt.text(C[i,0].item(), C[i,1].item(), itos[i], ha=\"center\", va=\"center\", color='white')\n",
    "plt.grid('minor')"
   ],
   "outputs": [
    {
     "data": {
      "text/plain": [
       "<Figure size 800x800 with 1 Axes>"
      ],
      "image/png": "[encoded data removed]"
     },
     "metadata": {},
     "output_type": "display_data"
    }
   ],
   "execution_count": 23
  },
  {
   "cell_type": "code",
   "metadata": {
    "colab": {
     "base_uri": "https://localhost:8080/"
    },
    "id": "TQUMmgRrdRIA",
    "outputId": "4618124d-0820-424d-99aa-803c84d680c0",
    "ExecuteTime": {
     "end_time": "2024-10-03T20:22:26.263826Z",
     "start_time": "2024-10-03T20:22:26.252912Z"
    }
   },
   "source": [
    "# sample from the model\n",
    "g = torch.Generator().manual_seed(2147483647 + 10)\n",
    "\n",
    "for _ in range(20):\n",
    "\n",
    "    out = []\n",
    "    context = [0] * block_size # initialize with all ...\n",
    "    while True:\n",
    "      emb = C[torch.tensor([context])] # (1,block_size,d)\n",
    "      h = torch.tanh(emb.view(1, -1) @ W1 + b1)\n",
    "      logits = h @ W2 + b2\n",
    "      probs = F.softmax(logits, dim=1)\n",
    "      ix = torch.multinomial(probs, num_samples=1, generator=g).item()\n",
    "      context = context[1:] + [ix]\n",
    "      out.append(ix)\n",
    "      if ix == 0:\n",
    "        break\n",
    "\n",
    "    print(''.join(itos[i] for i in out))"
   ],
   "outputs": [
    {
     "name": "stdout",
     "output_type": "stream",
     "text": [
      "carmah.\n",
      "amelle.\n",
      "khy.\n",
      "mili.\n",
      "taty.\n",
      "skaelene.\n",
      "rahnee.\n",
      "deliah.\n",
      "jareei.\n",
      "nermari.\n",
      "chaiir.\n",
      "kaleigh.\n",
      "ham.\n",
      "joce.\n",
      "quint.\n",
      "suline.\n",
      "liveni.\n",
      "wanthoniel.\n",
      "yoia.\n",
      "kael.\n"
     ]
    }
   ],
   "execution_count": 24
  },
  {
   "cell_type": "code",
   "execution_count": null,
   "metadata": {
    "id": "iwENKZS7dT_5"
   },
   "outputs": [],
   "source": []
  }
 ],
 "metadata": {
  "colab": {
   "provenance": []
  },
  "kernelspec": {
   "display_name": "Python 3 (ipykernel)",
   "language": "python",
   "name": "python3"
  },
  "language_info": {
   "codemirror_mode": {
    "name": "ipython",
    "version": 3
   },
   "file_extension": ".py",
   "mimetype": "text/x-python",
   "name": "python",
   "nbconvert_exporter": "python",
   "pygments_lexer": "ipython3",
   "version": "3.8.19"
  }
 },
 "nbformat": 4,
 "nbformat_minor": 4
}
